{
 "cells": [
  {
   "cell_type": "markdown",
   "id": "e80569f7",
   "metadata": {},
   "source": [
    "# 📊 Case Study 2: Statistical Enhancements for 90-Day Inhalation Toxicity Study"
   ]
  },
  {
   "cell_type": "markdown",
   "id": "64ca60f9",
   "metadata": {},
   "source": [
    "This notebook provides low-to-moderate cost enhancements to the original analysis of the 90-day inhalation toxicity study evaluating PG/VG with and without nicotine in rats. It includes:\n",
    "\n",
    "- ANCOVA for adjusted comparisons\n",
    "- Mixed-effects models for repeated measurements\n",
    "- Effect size estimation (Cohen’s d)\n",
    "- PCA for dimensionality reduction\n",
    "- Sensitivity analysis\n",
    "- Power analysis\n",
    "\n",
    "The enhancements are aligned with regulatory expectations and aim to improve precision, interpretability, and reproducibility.\n"
   ]
  },
  {
   "cell_type": "markdown",
   "id": "8a154f13",
   "metadata": {},
   "source": [
    "## 📁 Simulate Example Dataset"
   ]
  },
  {
   "cell_type": "code",
   "execution_count": 1,
   "id": "67f3364b",
   "metadata": {},
   "outputs": [
    {
     "data": {
      "text/html": [
       "<div>\n",
       "<style scoped>\n",
       "    .dataframe tbody tr th:only-of-type {\n",
       "        vertical-align: middle;\n",
       "    }\n",
       "\n",
       "    .dataframe tbody tr th {\n",
       "        vertical-align: top;\n",
       "    }\n",
       "\n",
       "    .dataframe thead th {\n",
       "        text-align: right;\n",
       "    }\n",
       "</style>\n",
       "<table border=\"1\" class=\"dataframe\">\n",
       "  <thead>\n",
       "    <tr style=\"text-align: right;\">\n",
       "      <th></th>\n",
       "      <th>animal_id</th>\n",
       "      <th>group</th>\n",
       "      <th>timepoint</th>\n",
       "      <th>baseline_weight</th>\n",
       "      <th>weight</th>\n",
       "      <th>lung_weight</th>\n",
       "    </tr>\n",
       "  </thead>\n",
       "  <tbody>\n",
       "    <tr>\n",
       "      <th>0</th>\n",
       "      <td>Sham_0</td>\n",
       "      <td>Sham</td>\n",
       "      <td>0</td>\n",
       "      <td>254.967142</td>\n",
       "      <td>254.552349</td>\n",
       "      <td>1.564769</td>\n",
       "    </tr>\n",
       "    <tr>\n",
       "      <th>1</th>\n",
       "      <td>Sham_0</td>\n",
       "      <td>Sham</td>\n",
       "      <td>30</td>\n",
       "      <td>254.967142</td>\n",
       "      <td>274.536231</td>\n",
       "      <td>1.476585</td>\n",
       "    </tr>\n",
       "    <tr>\n",
       "      <th>2</th>\n",
       "      <td>Sham_0</td>\n",
       "      <td>Sham</td>\n",
       "      <td>60</td>\n",
       "      <td>254.967142</td>\n",
       "      <td>284.264731</td>\n",
       "      <td>1.657921</td>\n",
       "    </tr>\n",
       "    <tr>\n",
       "      <th>3</th>\n",
       "      <td>Sham_0</td>\n",
       "      <td>Sham</td>\n",
       "      <td>90</td>\n",
       "      <td>254.967142</td>\n",
       "      <td>302.269446</td>\n",
       "      <td>1.453053</td>\n",
       "    </tr>\n",
       "    <tr>\n",
       "      <th>4</th>\n",
       "      <td>Sham_1</td>\n",
       "      <td>Sham</td>\n",
       "      <td>0</td>\n",
       "      <td>255.425600</td>\n",
       "      <td>254.035347</td>\n",
       "      <td>1.453427</td>\n",
       "    </tr>\n",
       "  </tbody>\n",
       "</table>\n",
       "</div>"
      ],
      "text/plain": [
       "  animal_id group  timepoint  baseline_weight      weight  lung_weight\n",
       "0    Sham_0  Sham          0       254.967142  254.552349     1.564769\n",
       "1    Sham_0  Sham         30       254.967142  274.536231     1.476585\n",
       "2    Sham_0  Sham         60       254.967142  284.264731     1.657921\n",
       "3    Sham_0  Sham         90       254.967142  302.269446     1.453053\n",
       "4    Sham_1  Sham          0       255.425600  254.035347     1.453427"
      ]
     },
     "execution_count": 1,
     "metadata": {},
     "output_type": "execute_result"
    }
   ],
   "source": [
    "\n",
    "import pandas as pd\n",
    "import numpy as np\n",
    "\n",
    "np.random.seed(42)\n",
    "groups = [\"Sham\", \"Saline\", \"PGVG_Low\", \"PGVG_Med\", \"PGVG_High\", \"Nic_Low\", \"Nic_Med\", \"Nic_High\"]\n",
    "n_animals = 10\n",
    "\n",
    "data = []\n",
    "for group in groups:\n",
    "    for i in range(n_animals):\n",
    "        animal_id = f\"{group}_{i}\"\n",
    "        baseline_weight = np.random.normal(250, 10)\n",
    "        timepoints = [0, 30, 60, 90]\n",
    "        for t in timepoints:\n",
    "            weight = baseline_weight + np.random.normal(0.5*t, 3)\n",
    "            lung_weight = np.random.normal(1.5 + 0.1*groups.index(group), 0.1)\n",
    "            data.append([animal_id, group, t, baseline_weight, weight, lung_weight])\n",
    "\n",
    "df = pd.DataFrame(data, columns=[\"animal_id\", \"group\", \"timepoint\", \"baseline_weight\", \"weight\", \"lung_weight\"])\n",
    "df.head()\n"
   ]
  },
  {
   "cell_type": "markdown",
   "id": "6f9131a7",
   "metadata": {},
   "source": [
    "## 📐 ANCOVA: Adjusting Lung Weight for Baseline Body Weight"
   ]
  },
  {
   "cell_type": "markdown",
   "id": "c3acd72b",
   "metadata": {},
   "source": [
    "\n",
    "In this study, different exposure groups might begin with slightly different body weights. Using ANCOVA allows us to compare lung weights between groups while adjusting for these baseline differences, improving the precision of our inference.\n"
   ]
  },
  {
   "cell_type": "code",
   "execution_count": 3,
   "id": "edfb5b60",
   "metadata": {},
   "outputs": [
    {
     "name": "stdout",
     "output_type": "stream",
     "text": [
      "                            OLS Regression Results                            \n",
      "==============================================================================\n",
      "Dep. Variable:            lung_weight   R-squared:                       0.863\n",
      "Model:                            OLS   Adj. R-squared:                  0.847\n",
      "Method:                 Least Squares   F-statistic:                     55.72\n",
      "Date:                Mon, 07 Jul 2025   Prob (F-statistic):           1.43e-27\n",
      "Time:                        23:57:36   Log-Likelihood:                 79.975\n",
      "No. Observations:                  80   AIC:                            -142.0\n",
      "Df Residuals:                      71   BIC:                            -120.5\n",
      "Df Model:                           8                                         \n",
      "Covariance Type:            nonrobust                                         \n",
      "=========================================================================================\n",
      "                            coef    std err          t      P>|t|      [0.025      0.975]\n",
      "-----------------------------------------------------------------------------------------\n",
      "Intercept                 2.3418      0.311      7.534      0.000       1.722       2.962\n",
      "C(group)[T.Nic_Low]      -0.1616      0.042     -3.822      0.000      -0.246      -0.077\n",
      "C(group)[T.Nic_Med]      -0.1007      0.044     -2.300      0.024      -0.188      -0.013\n",
      "C(group)[T.PGVG_High]    -0.2934      0.044     -6.680      0.000      -0.381      -0.206\n",
      "C(group)[T.PGVG_Low]     -0.4718      0.044    -10.624      0.000      -0.560      -0.383\n",
      "C(group)[T.PGVG_Med]     -0.3253      0.044     -7.449      0.000      -0.412      -0.238\n",
      "C(group)[T.Saline]       -0.5404      0.043    -12.581      0.000      -0.626      -0.455\n",
      "C(group)[T.Sham]         -0.7026      0.043    -16.374      0.000      -0.788      -0.617\n",
      "baseline_weight          -0.0007      0.001     -0.524      0.602      -0.003       0.002\n",
      "==============================================================================\n",
      "Omnibus:                        0.114   Durbin-Watson:                   2.490\n",
      "Prob(Omnibus):                  0.945   Jarque-Bera (JB):                0.289\n",
      "Skew:                           0.049   Prob(JB):                        0.865\n",
      "Kurtosis:                       2.723   Cond. No.                     7.39e+03\n",
      "==============================================================================\n",
      "\n",
      "Notes:\n",
      "[1] Standard Errors assume that the covariance matrix of the errors is correctly specified.\n",
      "[2] The condition number is large, 7.39e+03. This might indicate that there are\n",
      "strong multicollinearity or other numerical problems.\n"
     ]
    }
   ],
   "source": [
    "\n",
    "import statsmodels.formula.api as smf\n",
    "\n",
    "# Use final timepoint only for ANCOVA\n",
    "ancova_data = df[df[\"timepoint\"] == 90]\n",
    "model = smf.ols(\"lung_weight ~ C(group) + baseline_weight\", data=ancova_data).fit()\n",
    "print(model.summary())\n"
   ]
  },
  {
   "cell_type": "markdown",
   "id": "849017c7",
   "metadata": {},
   "source": [
    "## 🔄 Mixed Effects Model: Longitudinal Weight Changes"
   ]
  },
  {
   "cell_type": "markdown",
   "id": "e2468837",
   "metadata": {},
   "source": [
    "\n",
    "To properly model repeated measurements of weight over time for each rat, a linear mixed-effects model accounts for both group effects and within-animal correlation. This is critical in toxicology studies where weight gain or loss over time is monitored.\n"
   ]
  },
  {
   "cell_type": "code",
   "execution_count": 4,
   "id": "eb5334a7",
   "metadata": {},
   "outputs": [
    {
     "name": "stdout",
     "output_type": "stream",
     "text": [
      "                    Mixed Linear Model Regression Results\n",
      "=============================================================================\n",
      "Model:                    MixedLM        Dependent Variable:        weight   \n",
      "No. Observations:         320            Method:                    REML     \n",
      "No. Groups:               80             Scale:                     9.2292   \n",
      "Min. group size:          4              Log-Likelihood:            -953.3288\n",
      "Max. group size:          4              Converged:                 Yes      \n",
      "Mean group size:          4.0                                                \n",
      "-----------------------------------------------------------------------------\n",
      "                                 Coef.  Std.Err.   z    P>|z|  [0.025  0.975]\n",
      "-----------------------------------------------------------------------------\n",
      "Intercept                       245.090    2.859 85.718 0.000 239.486 250.694\n",
      "C(group)[T.Nic_Low]              -0.326    4.044 -0.081 0.936  -8.251   7.599\n",
      "C(group)[T.Nic_Med]               8.235    4.044  2.036 0.042   0.309  16.160\n",
      "C(group)[T.PGVG_High]             8.662    4.044  2.142 0.032   0.737  16.587\n",
      "C(group)[T.PGVG_Low]              9.382    4.044  2.320 0.020   1.456  17.307\n",
      "C(group)[T.PGVG_Med]              8.099    4.044  2.003 0.045   0.174  16.024\n",
      "C(group)[T.Saline]                5.428    4.044  1.342 0.179  -2.497  13.354\n",
      "C(group)[T.Sham]                  5.273    4.044  1.304 0.192  -2.653  13.198\n",
      "timepoint                         0.484    0.014 33.819 0.000   0.456   0.512\n",
      "C(group)[T.Nic_Low]:timepoint    -0.003    0.020 -0.163 0.870  -0.043   0.036\n",
      "C(group)[T.Nic_Med]:timepoint     0.021    0.020  1.043 0.297  -0.019   0.061\n",
      "C(group)[T.PGVG_High]:timepoint   0.017    0.020  0.828 0.408  -0.023   0.056\n",
      "C(group)[T.PGVG_Low]:timepoint    0.020    0.020  0.965 0.335  -0.020   0.059\n",
      "C(group)[T.PGVG_Med]:timepoint    0.014    0.020  0.674 0.500  -0.026   0.053\n",
      "C(group)[T.Saline]:timepoint      0.020    0.020  0.988 0.323  -0.020   0.060\n",
      "C(group)[T.Sham]:timepoint        0.006    0.020  0.320 0.749  -0.033   0.046\n",
      "Group Var                        75.294    4.873                             \n",
      "=============================================================================\n",
      "\n"
     ]
    },
    {
     "name": "stderr",
     "output_type": "stream",
     "text": [
      "C:\\Users\\keebs\\Anaconda\\lib\\site-packages\\statsmodels\\iolib\\summary2.py:579: FutureWarning: DataFrame.applymap has been deprecated. Use DataFrame.map instead.\n",
      "  dat = dat.applymap(lambda x: _formatter(x, float_format))\n"
     ]
    }
   ],
   "source": [
    "\n",
    "import statsmodels.api as sm\n",
    "\n",
    "md = smf.mixedlm(\"weight ~ C(group) * timepoint\", df, groups=df[\"animal_id\"])\n",
    "mdf = md.fit()\n",
    "print(mdf.summary())\n"
   ]
  },
  {
   "cell_type": "markdown",
   "id": "87b08a25",
   "metadata": {},
   "source": [
    "## 📏 Cohen’s d: Effect Size Between Sham and PGVG High"
   ]
  },
  {
   "cell_type": "markdown",
   "id": "04b44bb2",
   "metadata": {},
   "source": [
    "\n",
    "Effect size provides an estimate of the magnitude of difference between two groups. In regulatory toxicology, it's important to know not just whether a change is statistically significant, but whether it is biologically meaningful.\n"
   ]
  },
  {
   "cell_type": "code",
   "execution_count": 5,
   "id": "12c4f036",
   "metadata": {},
   "outputs": [
    {
     "name": "stdout",
     "output_type": "stream",
     "text": [
      "Cohen's d: 4.289\n"
     ]
    }
   ],
   "source": [
    "\n",
    "control = ancova_data[ancova_data[\"group\"] == \"Sham\"][\"lung_weight\"]\n",
    "high_dose = ancova_data[ancova_data[\"group\"] == \"PGVG_High\"][\"lung_weight\"]\n",
    "cohen_d = (high_dose.mean() - control.mean()) / np.sqrt((control.var() + high_dose.var()) / 2)\n",
    "print(f\"Cohen's d: {cohen_d:.3f}\")\n"
   ]
  },
  {
   "cell_type": "markdown",
   "id": "7df9569f",
   "metadata": {},
   "source": [
    "## 🔍 PCA: Organ Weight Dimensionality Reduction"
   ]
  },
  {
   "cell_type": "markdown",
   "id": "36c14e89",
   "metadata": {},
   "source": [
    "\n",
    "Principal Component Analysis helps visualize clustering and identify group separation in multivariate data. This is helpful when analyzing organ weights or omics data to identify patterns related to exposure.\n"
   ]
  },
  {
   "cell_type": "code",
   "execution_count": 6,
   "id": "c37bb681",
   "metadata": {},
   "outputs": [
    {
     "name": "stderr",
     "output_type": "stream",
     "text": [
      "C:\\Users\\keebs\\AppData\\Local\\Temp\\ipykernel_27092\\2472918612.py:10: SettingWithCopyWarning: \n",
      "A value is trying to be set on a copy of a slice from a DataFrame.\n",
      "Try using .loc[row_indexer,col_indexer] = value instead\n",
      "\n",
      "See the caveats in the documentation: https://pandas.pydata.org/pandas-docs/stable/user_guide/indexing.html#returning-a-view-versus-a-copy\n",
      "  ancova_data[\"PC1\"] = pca_out[:, 0]\n",
      "C:\\Users\\keebs\\AppData\\Local\\Temp\\ipykernel_27092\\2472918612.py:11: SettingWithCopyWarning: \n",
      "A value is trying to be set on a copy of a slice from a DataFrame.\n",
      "Try using .loc[row_indexer,col_indexer] = value instead\n",
      "\n",
      "See the caveats in the documentation: https://pandas.pydata.org/pandas-docs/stable/user_guide/indexing.html#returning-a-view-versus-a-copy\n",
      "  ancova_data[\"PC2\"] = pca_out[:, 1]\n"
     ]
    },
    {
     "data": {
      "image/png": "[encoded data removed]",
      "text/plain": [
       "<Figure size 800x600 with 1 Axes>"
      ]
     },
     "metadata": {},
     "output_type": "display_data"
    }
   ],
   "source": [
    "\n",
    "from sklearn.decomposition import PCA\n",
    "import matplotlib.pyplot as plt\n",
    "import seaborn as sns\n",
    "\n",
    "pca_data = ancova_data[[\"lung_weight\", \"baseline_weight\"]]\n",
    "pca_std = (pca_data - pca_data.mean()) / pca_data.std()\n",
    "pca = PCA(n_components=2)\n",
    "pca_out = pca.fit_transform(pca_std)\n",
    "\n",
    "ancova_data[\"PC1\"] = pca_out[:, 0]\n",
    "ancova_data[\"PC2\"] = pca_out[:, 1]\n",
    "\n",
    "plt.figure(figsize=(8, 6))\n",
    "sns.scatterplot(data=ancova_data, x=\"PC1\", y=\"PC2\", hue=\"group\")\n",
    "plt.title(\"PCA of Organ and Baseline Weight\")\n",
    "plt.show()\n"
   ]
  },
  {
   "cell_type": "markdown",
   "id": "b0b61bee",
   "metadata": {},
   "source": [
    "## 🧪 Sensitivity Analysis: Excluding PGVG_High Group"
   ]
  },
  {
   "cell_type": "markdown",
   "id": "e977d6bf",
   "metadata": {},
   "source": [
    "\n",
    "Sensitivity analysis checks the robustness of our findings. Here, we re-run the ANCOVA excluding the high dose group to see how much it influences the results.\n"
   ]
  },
  {
   "cell_type": "code",
   "execution_count": 7,
   "id": "236c8cec",
   "metadata": {},
   "outputs": [
    {
     "name": "stdout",
     "output_type": "stream",
     "text": [
      "                            OLS Regression Results                            \n",
      "==============================================================================\n",
      "Dep. Variable:            lung_weight   R-squared:                       0.876\n",
      "Model:                            OLS   Adj. R-squared:                  0.862\n",
      "Method:                 Least Squares   F-statistic:                     62.77\n",
      "Date:                Mon, 07 Jul 2025   Prob (F-statistic):           9.67e-26\n",
      "Time:                        23:58:19   Log-Likelihood:                 69.629\n",
      "No. Observations:                  70   AIC:                            -123.3\n",
      "Df Residuals:                      62   BIC:                            -105.3\n",
      "Df Model:                           7                                         \n",
      "Covariance Type:            nonrobust                                         \n",
      "========================================================================================\n",
      "                           coef    std err          t      P>|t|      [0.025      0.975]\n",
      "----------------------------------------------------------------------------------------\n",
      "Intercept                2.3846      0.354      6.743      0.000       1.678       3.092\n",
      "C(group)[T.Nic_Low]     -0.1615      0.043     -3.798      0.000      -0.247      -0.077\n",
      "C(group)[T.Nic_Med]     -0.0991      0.044     -2.230      0.029      -0.188      -0.010\n",
      "C(group)[T.PGVG_Low]    -0.4699      0.045    -10.382      0.000      -0.560      -0.379\n",
      "C(group)[T.PGVG_Med]    -0.3238      0.044     -7.305      0.000      -0.412      -0.235\n",
      "C(group)[T.Saline]      -0.5394      0.043    -12.427      0.000      -0.626      -0.453\n",
      "C(group)[T.Sham]        -0.7016      0.043    -16.185      0.000      -0.788      -0.615\n",
      "baseline_weight         -0.0008      0.001     -0.581      0.563      -0.004       0.002\n",
      "==============================================================================\n",
      "Omnibus:                        0.265   Durbin-Watson:                   2.463\n",
      "Prob(Omnibus):                  0.876   Jarque-Bera (JB):                0.440\n",
      "Skew:                           0.100   Prob(JB):                        0.802\n",
      "Kurtosis:                       2.667   Cond. No.                     7.80e+03\n",
      "==============================================================================\n",
      "\n",
      "Notes:\n",
      "[1] Standard Errors assume that the covariance matrix of the errors is correctly specified.\n",
      "[2] The condition number is large, 7.8e+03. This might indicate that there are\n",
      "strong multicollinearity or other numerical problems.\n"
     ]
    }
   ],
   "source": [
    "\n",
    "sens_data = ancova_data[ancova_data[\"group\"] != \"PGVG_High\"]\n",
    "sens_model = smf.ols(\"lung_weight ~ C(group) + baseline_weight\", data=sens_data).fit()\n",
    "print(sens_model.summary())\n"
   ]
  },
  {
   "cell_type": "markdown",
   "id": "41420a11",
   "metadata": {},
   "source": [
    "## ⚡ Power Analysis: Sample Size Planning"
   ]
  },
  {
   "cell_type": "markdown",
   "id": "d8fc3cf9",
   "metadata": {},
   "source": [
    "\n",
    "Power analysis is used to determine whether the sample size is sufficient to detect a biologically relevant effect. This is especially important in transcriptomics or when null results are observed.\n"
   ]
  },
  {
   "cell_type": "code",
   "execution_count": 8,
   "id": "64b29b3b",
   "metadata": {},
   "outputs": [
    {
     "name": "stdout",
     "output_type": "stream",
     "text": [
      "Estimated power: 1.00\n"
     ]
    }
   ],
   "source": [
    "\n",
    "from statsmodels.stats.power import TTestIndPower\n",
    "\n",
    "# Estimate power for effect size observed between Sham and PGVG_High\n",
    "analysis = TTestIndPower()\n",
    "power = analysis.power(effect_size=cohen_d, nobs1=10, alpha=0.05, ratio=1.0)\n",
    "print(f\"Estimated power: {power:.2f}\")\n"
   ]
  }
 ],
 "metadata": {
  "kernelspec": {
   "display_name": "Python 3 (ipykernel)",
   "language": "python",
   "name": "python3"
  },
  "language_info": {
   "codemirror_mode": {
    "name": "ipython",
    "version": 3
   },
   "file_extension": ".py",
   "mimetype": "text/x-python",
   "name": "python",
   "nbconvert_exporter": "python",
   "pygments_lexer": "ipython3",
   "version": "3.9.13"
  }
 },
 "nbformat": 4,
 "nbformat_minor": 5
}
