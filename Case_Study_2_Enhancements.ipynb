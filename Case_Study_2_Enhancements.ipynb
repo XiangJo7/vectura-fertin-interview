{
 "cells": [
  {
   "cell_type": "markdown",
   "id": "e80569f7",
   "metadata": {},
   "source": [
    "# 📊 Case Study 2: Statistical Enhancements for 90-Day Inhalation Toxicity Study"
   ]
  },
  {
   "cell_type": "markdown",
   "id": "64ca60f9",
   "metadata": {},
   "source": [
    "This notebook provides low-to-moderate cost enhancements to the original analysis of the 90-day inhalation toxicity study evaluating PG/VG with and without nicotine in rats. It includes:\n",
    "\n",
    "- ANCOVA for adjusted comparisons\n",
    "- Mixed-effects models for repeated measurements\n",
    "- Effect size estimation (Cohen’s d)\n",
    "- PCA for dimensionality reduction\n",
    "- Sensitivity analysis\n",
    "- Power analysis\n",
    "\n",
    "The enhancements are aligned with regulatory expectations and aim to improve precision, interpretability, and reproducibility.\n"
   ]
  },
  {
   "cell_type": "markdown",
   "id": "8a154f13",
   "metadata": {},
   "source": [
    "## 📁 Simulate Example Dataset"
   ]
  },
  {
   "cell_type": "code",
   "execution_count": null,
   "id": "67f3364b",
   "metadata": {},
   "outputs": [],
   "source": [
    "\n",
    "import pandas as pd\n",
    "import numpy as np\n",
    "\n",
    "np.random.seed(42)\n",
    "groups = [\"Sham\", \"Saline\", \"PGVG_Low\", \"PGVG_Med\", \"PGVG_High\", \"Nic_Low\", \"Nic_Med\", \"Nic_High\"]\n",
    "n_animals = 10\n",
    "\n",
    "data = []\n",
    "for group in groups:\n",
    "    for i in range(n_animals):\n",
    "        animal_id = f\"{group}_{i}\"\n",
    "        baseline_weight = np.random.normal(250, 10)\n",
    "        timepoints = [0, 30, 60, 90]\n",
    "        for t in timepoints:\n",
    "            weight = baseline_weight + np.random.normal(0.5*t, 3)\n",
    "            lung_weight = np.random.normal(1.5 + 0.1*groups.index(group), 0.1)\n",
    "            data.append([animal_id, group, t, baseline_weight, weight, lung_weight])\n",
    "\n",
    "df = pd.DataFrame(data, columns=[\"animal_id\", \"group\", \"timepoint\", \"baseline_weight\", \"weight\", \"lung_weight\"])\n",
    "df.head()\n"
   ]
  },
  {
   "cell_type": "markdown",
   "id": "6f9131a7",
   "metadata": {},
   "source": [
    "## 📐 ANCOVA: Adjusting Lung Weight for Baseline Body Weight"
   ]
  },
  {
   "cell_type": "markdown",
   "id": "c3acd72b",
   "metadata": {},
   "source": [
    "\n",
    "In this study, different exposure groups might begin with slightly different body weights. Using ANCOVA allows us to compare lung weights between groups while adjusting for these baseline differences, improving the precision of our inference.\n"
   ]
  },
  {
   "cell_type": "code",
   "execution_count": null,
   "id": "edfb5b60",
   "metadata": {},
   "outputs": [],
   "source": [
    "\n",
    "import statsmodels.formula.api as smf\n",
    "\n",
    "# Use final timepoint only for ANCOVA\n",
    "ancova_data = df[df[\"timepoint\"] == 90]\n",
    "model = smf.ols(\"lung_weight ~ C(group) + baseline_weight\", data=ancova_data).fit()\n",
    "print(model.summary())\n"
   ]
  },
  {
   "cell_type": "markdown",
   "id": "849017c7",
   "metadata": {},
   "source": [
    "## 🔄 Mixed Effects Model: Longitudinal Weight Changes"
   ]
  },
  {
   "cell_type": "markdown",
   "id": "e2468837",
   "metadata": {},
   "source": [
    "\n",
    "To properly model repeated measurements of weight over time for each rat, a linear mixed-effects model accounts for both group effects and within-animal correlation. This is critical in toxicology studies where weight gain or loss over time is monitored.\n"
   ]
  },
  {
   "cell_type": "code",
   "execution_count": null,
   "id": "eb5334a7",
   "metadata": {},
   "outputs": [],
   "source": [
    "\n",
    "import statsmodels.api as sm\n",
    "\n",
    "md = smf.mixedlm(\"weight ~ C(group) * timepoint\", df, groups=df[\"animal_id\"])\n",
    "mdf = md.fit()\n",
    "print(mdf.summary())\n"
   ]
  },
  {
   "cell_type": "markdown",
   "id": "87b08a25",
   "metadata": {},
   "source": [
    "## 📏 Cohen’s d: Effect Size Between Sham and PGVG High"
   ]
  },
  {
   "cell_type": "markdown",
   "id": "04b44bb2",
   "metadata": {},
   "source": [
    "\n",
    "Effect size provides an estimate of the magnitude of difference between two groups. In regulatory toxicology, it's important to know not just whether a change is statistically significant, but whether it is biologically meaningful.\n"
   ]
  },
  {
   "cell_type": "code",
   "execution_count": null,
   "id": "12c4f036",
   "metadata": {},
   "outputs": [],
   "source": [
    "\n",
    "control = ancova_data[ancova_data[\"group\"] == \"Sham\"][\"lung_weight\"]\n",
    "high_dose = ancova_data[ancova_data[\"group\"] == \"PGVG_High\"][\"lung_weight\"]\n",
    "cohen_d = (high_dose.mean() - control.mean()) / np.sqrt((control.var() + high_dose.var()) / 2)\n",
    "print(f\"Cohen's d: {cohen_d:.3f}\")\n"
   ]
  },
  {
   "cell_type": "markdown",
   "id": "7df9569f",
   "metadata": {},
   "source": [
    "## 🔍 PCA: Organ Weight Dimensionality Reduction"
   ]
  },
  {
   "cell_type": "markdown",
   "id": "36c14e89",
   "metadata": {},
   "source": [
    "\n",
    "Principal Component Analysis helps visualize clustering and identify group separation in multivariate data. This is helpful when analyzing organ weights or omics data to identify patterns related to exposure.\n"
   ]
  },
  {
   "cell_type": "code",
   "execution_count": null,
   "id": "c37bb681",
   "metadata": {},
   "outputs": [],
   "source": [
    "\n",
    "from sklearn.decomposition import PCA\n",
    "import matplotlib.pyplot as plt\n",
    "import seaborn as sns\n",
    "\n",
    "pca_data = ancova_data[[\"lung_weight\", \"baseline_weight\"]]\n",
    "pca_std = (pca_data - pca_data.mean()) / pca_data.std()\n",
    "pca = PCA(n_components=2)\n",
    "pca_out = pca.fit_transform(pca_std)\n",
    "\n",
    "ancova_data[\"PC1\"] = pca_out[:, 0]\n",
    "ancova_data[\"PC2\"] = pca_out[:, 1]\n",
    "\n",
    "plt.figure(figsize=(8, 6))\n",
    "sns.scatterplot(data=ancova_data, x=\"PC1\", y=\"PC2\", hue=\"group\")\n",
    "plt.title(\"PCA of Organ and Baseline Weight\")\n",
    "plt.show()\n"
   ]
  },
  {
   "cell_type": "markdown",
   "id": "b0b61bee",
   "metadata": {},
   "source": [
    "## 🧪 Sensitivity Analysis: Excluding PGVG_High Group"
   ]
  },
  {
   "cell_type": "markdown",
   "id": "e977d6bf",
   "metadata": {},
   "source": [
    "\n",
    "Sensitivity analysis checks the robustness of our findings. Here, we re-run the ANCOVA excluding the high dose group to see how much it influences the results.\n"
   ]
  },
  {
   "cell_type": "code",
   "execution_count": null,
   "id": "236c8cec",
   "metadata": {},
   "outputs": [],
   "source": [
    "\n",
    "sens_data = ancova_data[ancova_data[\"group\"] != \"PGVG_High\"]\n",
    "sens_model = smf.ols(\"lung_weight ~ C(group) + baseline_weight\", data=sens_data).fit()\n",
    "print(sens_model.summary())\n"
   ]
  },
  {
   "cell_type": "markdown",
   "id": "41420a11",
   "metadata": {},
   "source": [
    "## ⚡ Power Analysis: Sample Size Planning"
   ]
  },
  {
   "cell_type": "markdown",
   "id": "d8fc3cf9",
   "metadata": {},
   "source": [
    "\n",
    "Power analysis is used to determine whether the sample size is sufficient to detect a biologically relevant effect. This is especially important in transcriptomics or when null results are observed.\n"
   ]
  },
  {
   "cell_type": "code",
   "execution_count": null,
   "id": "64b29b3b",
   "metadata": {},
   "outputs": [],
   "source": [
    "\n",
    "from statsmodels.stats.power import TTestIndPower\n",
    "\n",
    "# Estimate power for effect size observed between Sham and PGVG_High\n",
    "analysis = TTestIndPower()\n",
    "power = analysis.power(effect_size=cohen_d, nobs1=10, alpha=0.05, ratio=1.0)\n",
    "print(f\"Estimated power: {power:.2f}\")\n"
   ]
  }
 ],
 "metadata": {},
 "nbformat": 4,
 "nbformat_minor": 5
}
